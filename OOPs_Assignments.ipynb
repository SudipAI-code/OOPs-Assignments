{
  "nbformat": 4,
  "nbformat_minor": 0,
  "metadata": {
    "colab": {
      "provenance": []
    },
    "kernelspec": {
      "name": "python3",
      "display_name": "Python 3"
    },
    "language_info": {
      "name": "python"
    }
  },
  "cells": [
    {
      "cell_type": "markdown",
      "source": [
        "1. What is Object-Oriented Programming (OOP)?\n",
        "->Object-Oriented Programming (OOP) is a programming paradigm that organizes software design around objects, which represent real-world entities. These objects encapsulate data (attributes) and behavior (methods/functions) into a single unit. OOP improves code reusability, modularity, and maintainability."
      ],
      "metadata": {
        "id": "4S8wcTWSWphz"
      }
    },
    {
      "cell_type": "markdown",
      "source": [
        "2. What is a class in OOP ?\n",
        "\n",
        "->A class is a blueprint or template for creating objects in Object-Oriented Programming (OOP). It defines the attributes (data members) and methods (functions) that objects created from the class will have."
      ],
      "metadata": {
        "id": "oUedcWKXWpea"
      }
    },
    {
      "cell_type": "markdown",
      "source": [
        "3. What is an object in OOP?\n",
        "\n",
        "->An object is an instance of a class. It is a real-world entity that has attributes (data) and methods (behavior), which are defined by the class."
      ],
      "metadata": {
        "id": "xp1f1SrkWpbd"
      }
    },
    {
      "cell_type": "markdown",
      "source": [
        "4. What is the difference between abstraction and encapsulation?\n",
        "->Abstraction Hiding implementation details and showing only the essential features.\tEncapsulation Wrapping data and methods into a single unit and restricting access to certain details.\n",
        "\n",
        "Abstraction Focuses on what an object does, rather than how it does it.\tEncapsulation Focuses on hiding internal details to protect data integrity."
      ],
      "metadata": {
        "id": "fSBRNNDXWpYj"
      }
    },
    {
      "cell_type": "markdown",
      "source": [
        "5. What are dunder methods in Python?\n",
        "->Dunder methods, also called magic methods or special methods, are built-in methods in Python that have double underscores (__) at the beginning and end of their names. They are used to define how objects of a class behave with built-in Python operations (e.g., +, len(), print())."
      ],
      "metadata": {
        "id": "cwV5R1ZdWpVS"
      }
    },
    {
      "cell_type": "markdown",
      "source": [
        "6. Explain the concept of inheritance in OOP?\n",
        "-> Inheritance is a fundamental OOP concept that allows one class (child/derived class) to inherit attributes and methods from another class (parent/base class). It enables code reuse and helps in establishing relationships between classes."
      ],
      "metadata": {
        "id": "ZdFq7-DmWpSP"
      }
    },
    {
      "cell_type": "markdown",
      "source": [
        "7. What is polymorphism in OOP?\n",
        "->Polymorphism means \"many forms\" and allows a single interface to represent different types. In Object-Oriented Programming (OOP), polymorphism enables different classes to be used interchangeably while executing their own version of a method."
      ],
      "metadata": {
        "id": "KkqyiZ4QWpPG"
      }
    },
    {
      "cell_type": "markdown",
      "source": [
        "8. How is encapsulation achieved in Python?\n",
        "->Encapsulation is one of the core principles of Object-Oriented Programming (OOP). It refers to restricting direct access to an object's data and methods while exposing only the necessary functionalities.\n",
        "\n",
        "🔹 Encapsulation protects data from accidental modification.\n",
        "🔹 It is implemented using access specifiers:\n",
        "\n",
        "Public (public) → Accessible from anywhere.\n",
        "Protected (_protected) → Suggests restricted access but still accessible.\n",
        "Private (__private) → Strongly restricted access."
      ],
      "metadata": {
        "id": "JFSWd7g9WpL0"
      }
    },
    {
      "cell_type": "markdown",
      "source": [
        "9. What is a constructor in Python?\n",
        "->A constructor is a special method in Python that is automatically called when a new object of a class is created.\n",
        "It is used to initialize an object's attributes.\n",
        "\n",
        "🔹 In Python, the constructor method is __init__().\n",
        "🔹 It runs automatically when an object is instantiated."
      ],
      "metadata": {
        "id": "bn5PtFO0WpIn"
      }
    },
    {
      "cell_type": "markdown",
      "source": [
        "10. What are class and static methods in Python?\n",
        "->A class method works at the class level instead of the instance level.\n",
        "It receives the class itself (cls) as its first argument instead of self.\n",
        "\n",
        "A static method is a method that does not require access to the class (cls) or instance (self).\n",
        "It behaves like a regular function but is defined inside a class for better organization."
      ],
      "metadata": {
        "id": "QL62Hm0CWpF3"
      }
    },
    {
      "cell_type": "markdown",
      "source": [
        "11. What is method overloading in Python?\n",
        "->Method Overloading is a feature in Object-Oriented Programming (OOP) that allows multiple methods in the same class to have the same name but different parameters (number or type).\n",
        "\n",
        "🔹 In Python, method overloading is not natively supported like in Java or C++.\n",
        "🔹 However, we can achieve similar behavior using default arguments, *args, and @staticmethod or @classmethod.\n",
        "\n"
      ],
      "metadata": {
        "id": "YdAngE-NWpC6"
      }
    },
    {
      "cell_type": "markdown",
      "source": [
        "12. What is method overriding in OOP?\n",
        "->🔹 Method Overriding is a feature in Object-Oriented Programming (OOP) where a child class provides a specific implementation of a method that is already defined in its parent class.\n",
        "🔹 The overridden method in the child class must have the same name, parameters, and return type as in the parent class.\n",
        "🔹 The child class replaces the behavior of the inherited method.\n",
        "\n",
        "📌 Key Points of Method Overriding:\n",
        "✅ The method name and signature must be the same as in the parent class.\n",
        "✅ The child class redefines the behavior of the parent class method.\n",
        "✅ It is useful for runtime polymorphism, allowing dynamic method dispatch."
      ],
      "metadata": {
        "id": "HEjRnpKqWpAO"
      }
    },
    {
      "cell_type": "markdown",
      "source": [
        "13. What is a property decorator in Python?\n",
        "-> 🔹 The @property decorator in Python is used to define getter methods in a class.\n",
        "🔹 It allows you to access a method like an attribute (without parentheses).\n",
        "🔹 It is commonly used for data encapsulation, preventing direct access to private attributes."
      ],
      "metadata": {
        "id": "eLdx845sWo9X"
      }
    },
    {
      "cell_type": "markdown",
      "source": [
        "14. Why is polymorphism important in OOP?\n",
        "->Polymorphism is an Object-Oriented Programming (OOP) concept that allows one interface to be used for different types of objects.\n",
        "🔹 The same method name can behave differently based on the object calling it.\n",
        "🔹 It enhances flexibility, code reuse, and scalability."
      ],
      "metadata": {
        "id": "yRxnCLsoWo6q"
      }
    },
    {
      "cell_type": "markdown",
      "source": [
        "15. What is an abstract class in Python?\n",
        "->🔹 An abstract class is a class that cannot be instantiated and is meant to be a blueprint for other classes.\n",
        "🔹 It contains one or more abstract methods, which are declared but not implemented in the base class.\n",
        "🔹 Abstract classes ensure that subclasses must implement certain methods.\n",
        "\n",
        "📌 Abstract classes in Python are defined using the ABC (Abstract Base Class) module."
      ],
      "metadata": {
        "id": "YNT54uIBWo38"
      }
    },
    {
      "cell_type": "markdown",
      "source": [
        "16. What are the advantages of OOP?\n",
        "->✅ Encapsulation: OOP allows bundling of data and methods into classes, making code modular.\n",
        "✅ Code Reuse: Once a class is created, it can be reused in different parts of a program or in different projects.\n",
        "✅ Allows new classes to reuse and extend existing code.\n",
        "✅ Reduces duplication and promotes a hierarchical class structure.\n",
        "✅ Allows different objects to respond to the same method differently.\n",
        "✅ Enhances scalability and simplifies method handling."
      ],
      "metadata": {
        "id": "zIHrzHDeWo1W"
      }
    },
    {
      "cell_type": "markdown",
      "source": [
        "17. What is the difference between a class variable and an instance variable?\n",
        "->class  variable shared among all instances of a class, instance variable unique to each instance"
      ],
      "metadata": {
        "id": "S_taGRjaWoyn"
      }
    },
    {
      "cell_type": "markdown",
      "source": [
        "18. What is multiple inheritance in Python?\n",
        "->🔹 Multiple inheritance is a feature in Python that allows a class to inherit attributes and methods from more than one parent class.\n",
        "🔹 This means that a single child class can have multiple base (parent) classes."
      ],
      "metadata": {
        "id": "ichtFd5oWowD"
      }
    },
    {
      "cell_type": "markdown",
      "source": [
        "19. Explain the purpose of ‘’__str__’ and ‘__repr__’ ‘ methods in Python?\n",
        "->1. __str__ Method\n",
        "🔹 The __str__ method is used to return a user-friendly and readable string representation of an object.\n",
        "🔹 It is called when you use the print() function or str() on an object.\n",
        "\n",
        "2. __repr__ Method\n",
        "🔹 The __repr__ method is used to return an unambiguous, developer-friendly string representation of an object.\n",
        "🔹 It is meant to be used for debugging and logging.\n",
        "🔹 It is called when you use repr() or when inspecting objects in interactive mode."
      ],
      "metadata": {
        "id": "mr-lQUzybcSf"
      }
    },
    {
      "cell_type": "markdown",
      "source": [
        "20. What is the significance of the ‘super()’ function in Python?\n",
        "->The super() function in Python is used to call methods from a parent class inside a child class. It helps in code reuse, avoiding redundancy, and resolving multiple inheritance issues."
      ],
      "metadata": {
        "id": "8hBim9KsbcPI"
      }
    },
    {
      "cell_type": "markdown",
      "source": [
        "21. What is the significance of the __del__ method in Python?\n",
        "->The __del__ method in Python is a special (dunder) method that is called when an object is about to be destroyed (garbage collected). It acts as a destructor and is used for cleanup tasks, such as closing files, releasing network resources, or logging object deletion."
      ],
      "metadata": {
        "id": "6wx_7-k_bcLQ"
      }
    },
    {
      "cell_type": "markdown",
      "source": [
        "22. What is the difference between @staticmethod and @classmethod in Python?\n",
        "->Both @staticmethod and @classmethod are decorators in Python that define methods inside a class. However, they have key differences in how they handle class and instance data."
      ],
      "metadata": {
        "id": "zfDPUPd7bcHN"
      }
    },
    {
      "cell_type": "markdown",
      "source": [
        "23. How does polymorphism work in Python with inheritance?\n",
        "->Polymorphism allows different classes to use the same method name but perform different behaviors. It enables code reusability and flexibility by allowing objects of different classes to be treated as instances of the same base class.\n",
        "\n",
        "Polymorphism is commonly implemented using method overriding in inheritance."
      ],
      "metadata": {
        "id": "BRENi6wibcDr"
      }
    },
    {
      "cell_type": "markdown",
      "source": [
        "24. What is method chaining in Python OOP?\n",
        "->Method chaining is a technique in Object-Oriented Programming (OOP) where multiple methods are called on the same object in a single statement. This is achieved by having each method return the instance (self), allowing calls to be chained together."
      ],
      "metadata": {
        "id": "umMs2ajEbcAK"
      }
    },
    {
      "cell_type": "markdown",
      "source": [
        "25. What is the purpose of the __call__ method in Python?\n",
        "->The __call__ method allows an instance of a class to be called like a function by using parentheses (). This makes objects callable, enabling flexible and reusable design patterns.\n",
        "\n"
      ],
      "metadata": {
        "id": "vhUM_4s3c1Dp"
      }
    },
    {
      "cell_type": "code",
      "execution_count": null,
      "metadata": {
        "id": "jtaDRj2sWltI"
      },
      "outputs": [],
      "source": []
    }
  ]
}